{
  "nbformat": 4,
  "nbformat_minor": 0,
  "metadata": {
    "colab": {
      "provenance": [],
      "include_colab_link": true
    },
    "kernelspec": {
      "name": "python3",
      "display_name": "Python 3"
    },
    "language_info": {
      "name": "python"
    }
  },
  "cells": [
    {
      "cell_type": "markdown",
      "metadata": {
        "id": "view-in-github",
        "colab_type": "text"
      },
      "source": [
        "<a href=\"https://colab.research.google.com/github/ytk-kbysh/leetcode_exercices/blob/main/Copy_of_Leetcode_Thursday_Q1_20_06_24.ipynb\" target=\"_parent\"><img src=\"https://colab.research.google.com/assets/colab-badge.svg\" alt=\"Open In Colab\"/></a>"
      ]
    },
    {
      "cell_type": "markdown",
      "source": [
        "#Given two strings s and t, write a function to determine if t is an anagram of s.\n",
        "\n",
        "#An Anagram is a word or phrase formed by rearranging the letters of a different word or phrase, typically using all the original letters exactly once."
      ],
      "metadata": {
        "id": "zJvzrGPjPKpn"
      }
    },
    {
      "cell_type": "code",
      "execution_count": null,
      "metadata": {
        "id": "o723wON8O05u",
        "colab": {
          "base_uri": "https://localhost:8080/"
        },
        "outputId": "e17a7be8-dc4e-4f79-8aa3-8e26ecd0c266"
      },
      "outputs": [
        {
          "output_type": "stream",
          "name": "stdout",
          "text": [
            "Counter({'t': 1, 'a': 1, 'c': 1})\n"
          ]
        },
        {
          "output_type": "execute_result",
          "data": {
            "text/plain": [
              "True"
            ]
          },
          "metadata": {},
          "execution_count": 25
        }
      ],
      "source": [
        "from collections import Counter\n",
        "\n",
        "def is_anagram(s, t):\n",
        "\n",
        "    # If the lengths are different, they cannot be anagrams (1)\n",
        "    if len(s) != len(t):\n",
        "        print(\"length is different.\")\n",
        "        return False\n",
        "\n",
        "    # Count the number of letters in both parameters. (2)\n",
        "\n",
        "    \"\"\"\n",
        "    s_dict = {}\n",
        "    t_dict = {}\n",
        "\n",
        "    for letter in s:\n",
        "        s_dict[letter] = s.count(letter)\n",
        "\n",
        "    for letter in t:\n",
        "        t_dict[letter] = s.count(letter)\n",
        "\n",
        "    for letter in t:\n",
        "        if letter in s and letter in t:\n",
        "          if s_dict[letter] != t_dict[letter]:\n",
        "            print(f\"The count of the letter {letter} differs.\")\n",
        "            return False\n",
        "        else:\n",
        "          print(f\"The letter {letter} is not in one of the list.\")\n",
        "          return False\n",
        "\n",
        "    return True\n",
        "    \"\"\"\n",
        "\n",
        "    # Alternative of (2), optimization proposal by ChatGPT to the above\n",
        "\n",
        "    s_count = Counter(s)\n",
        "    t_count = Counter(t)\n",
        "    print(t_count)\n",
        "\n",
        "    # Compare the two Counters\n",
        "    if s_count == t_count:\n",
        "        return True\n",
        "    else:\n",
        "        print(\"The counts of letters differ.\")\n",
        "        return False\n",
        "\n",
        "is_anagram(\"cat\", \"tac\")"
      ]
    },
    {
      "cell_type": "code",
      "source": [
        "s = 'anagram'\n",
        "t = 'nagaram'\n",
        "print('input: s = {} | t = {}'.format(s,t))\n",
        "correct = True\n",
        "res = is_anagram(s,t)\n",
        "print('correct answer:  {}\\nfunction return: {}'.format(correct,res))\n",
        "print('============================================')\n",
        "\n",
        "s = 'cat'\n",
        "t = 'rat'\n",
        "print('input: s = {} | t = {}'.format(s,t))\n",
        "correct = False\n",
        "res = is_anagram(s,t)\n",
        "print('correct answer:  {}\\nfunction return: {}'.format(correct,res))\n",
        "print('============================================')\n",
        "\n",
        "s = 'pneumonoultramicroscopicsilicovolcanoconiosis'\n",
        "t = 'csilicovltramiolcanocoeumonoucroscopiniosispn'\n",
        "print('input: s = {} | t = {}'.format(s,t))\n",
        "correct = True\n",
        "res = is_anagram(s,t)\n",
        "print('correct answer:  {}\\nfunction return: {}'.format(correct,res))\n",
        "print('============================================')"
      ],
      "metadata": {
        "colab": {
          "base_uri": "https://localhost:8080/"
        },
        "id": "RoPXTP74Pgyb",
        "outputId": "256bcd38-e2db-41a6-91ae-28c98cbb6541"
      },
      "execution_count": null,
      "outputs": [
        {
          "output_type": "stream",
          "name": "stdout",
          "text": [
            "input: s = anagram | t = nagaram\n",
            "correct answer:  True\n",
            "function return: False\n",
            "============================================\n",
            "input: s = cat | t = rat\n",
            "correct answer:  False\n",
            "function return: False\n",
            "============================================\n",
            "input: s = pneumonoultramicroscopicsilicovolcanoconiosis | t = csilicovltramiolcanocoeumonoucroscopiniosispn\n",
            "correct answer:  True\n",
            "function return: False\n",
            "============================================\n"
          ]
        }
      ]
    }
  ]
}