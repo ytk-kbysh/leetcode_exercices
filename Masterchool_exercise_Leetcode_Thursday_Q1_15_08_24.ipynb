{
  "nbformat": 4,
  "nbformat_minor": 0,
  "metadata": {
    "colab": {
      "provenance": [],
      "include_colab_link": true
    },
    "kernelspec": {
      "name": "python3",
      "display_name": "Python 3"
    },
    "language_info": {
      "name": "python"
    }
  },
  "cells": [
    {
      "cell_type": "markdown",
      "metadata": {
        "id": "view-in-github",
        "colab_type": "text"
      },
      "source": [
        "<a href=\"https://colab.research.google.com/github/ytk-kbysh/leetcode_exercices/blob/main/Masterchool_exercise_Leetcode_Thursday_Q1_15_08_24.ipynb\" target=\"_parent\"><img src=\"https://colab.research.google.com/assets/colab-badge.svg\" alt=\"Open In Colab\"/></a>"
      ]
    },
    {
      "cell_type": "markdown",
      "source": [
        "#Given an array nums of size n, find the majority element. The majority element is the element that appears more than n / 2 times. You may assume that the majority element always exists in the array.\n",
        "\n",
        "\n",
        "#Example 1:\n",
        "#Input: nums = [3, 2, 3]\n",
        "#Output: 3\n",
        "\n",
        "#Example 2:\n",
        "#Input: nums = [4, 4, 1, 1, 1, 4, 4]\n",
        "#Output: 4\n"
      ],
      "metadata": {
        "id": "LQt5spB0lTlH"
      }
    },
    {
      "cell_type": "code",
      "execution_count": null,
      "metadata": {
        "id": "QsBFQCmflLdO",
        "outputId": "e4167b42-e7fd-45dc-a89a-08c64bae86a6",
        "colab": {
          "base_uri": "https://localhost:8080/"
        }
      },
      "outputs": [
        {
          "output_type": "stream",
          "name": "stdout",
          "text": [
            "{4: 4, 1: 3}\n"
          ]
        },
        {
          "output_type": "execute_result",
          "data": {
            "text/plain": [
              "4"
            ]
          },
          "metadata": {},
          "execution_count": 26
        }
      ],
      "source": [
        "def majorityElement(nums):\n",
        "\n",
        "  num_dict = {}\n",
        "  for num in nums:\n",
        "    if num in num_dict:\n",
        "      num_dict[num] += 1\n",
        "    else:\n",
        "      num_dict[num] = 1\n",
        "\n",
        "  print(num_dict)\n",
        "\n",
        "  length = len(nums)\n",
        "\n",
        "\n",
        "  for k, v in num_dict.items():\n",
        "    if length == 1:\n",
        "      return k\n",
        "    if v > length/2:\n",
        "      return k\n",
        "\n",
        "  return 0\n",
        "\n",
        "majorityElement([4, 4, 1, 1, 1, 4, 4])"
      ]
    },
    {
      "cell_type": "code",
      "source": [
        "nums = [3, 2, 3]\n",
        "print('input: nums = {}'.format(nums))\n",
        "correct = 3\n",
        "res = majorityElement(nums)\n",
        "print('correct answer:  {}\\nfunction return: {}'.format(correct, res))\n",
        "print('============================================')\n",
        "\n",
        "nums = [2, 2, 1, 1, 1, 2, 2]\n",
        "print('input: nums = {}'.format(nums))\n",
        "correct = 2\n",
        "res = majorityElement(nums)\n",
        "print('correct answer:  {}\\nfunction return: {}'.format(correct, res))\n",
        "print('============================================')\n",
        "\n",
        "nums = [1]\n",
        "print('input: nums = {}'.format(nums))\n",
        "correct = 1\n",
        "res = majorityElement(nums)\n",
        "print('correct answer:  {}\\nfunction return: {}'.format(correct, res))\n",
        "print('============================================')\n",
        "\n",
        "nums = [1, 1, 2, 2, 2, 2, 1]\n",
        "print('input: nums = {}'.format(nums))\n",
        "correct = 2\n",
        "res = majorityElement(nums)\n",
        "print('correct answer:  {}\\nfunction return: {}'.format(correct, res))\n",
        "print('============================================')"
      ],
      "metadata": {
        "colab": {
          "base_uri": "https://localhost:8080/"
        },
        "id": "Zwdijy_2lhmS",
        "outputId": "b3ca604f-a6fe-4c25-85f1-10641a0f2419"
      },
      "execution_count": null,
      "outputs": [
        {
          "output_type": "stream",
          "name": "stdout",
          "text": [
            "input: nums = [3, 2, 3]\n",
            "{3: 2, 2: 1}\n",
            "correct answer:  3\n",
            "function return: 3\n",
            "============================================\n",
            "input: nums = [2, 2, 1, 1, 1, 2, 2]\n",
            "{2: 4, 1: 3}\n",
            "correct answer:  2\n",
            "function return: 2\n",
            "============================================\n",
            "input: nums = [1]\n",
            "{1: 1}\n",
            "correct answer:  1\n",
            "function return: 1\n",
            "============================================\n",
            "input: nums = [1, 1, 2, 2, 2, 2, 1]\n",
            "{1: 3, 2: 4}\n",
            "correct answer:  2\n",
            "function return: 2\n",
            "============================================\n"
          ]
        }
      ]
    }
  ]
}