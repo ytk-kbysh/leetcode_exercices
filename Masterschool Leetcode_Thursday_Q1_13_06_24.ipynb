{
  "nbformat": 4,
  "nbformat_minor": 0,
  "metadata": {
    "colab": {
      "provenance": [],
      "include_colab_link": true
    },
    "kernelspec": {
      "name": "python3",
      "display_name": "Python 3"
    },
    "language_info": {
      "name": "python"
    }
  },
  "cells": [
    {
      "cell_type": "markdown",
      "metadata": {
        "id": "view-in-github",
        "colab_type": "text"
      },
      "source": [
        "<a href=\"https://colab.research.google.com/github/ytk-kbysh/leetcode_exercices/blob/main/Masterschool%20Leetcode_Thursday_Q1_13_06_24.ipynb\" target=\"_parent\"><img src=\"https://colab.research.google.com/assets/colab-badge.svg\" alt=\"Open In Colab\"/></a>"
      ]
    },
    {
      "cell_type": "markdown",
      "source": [
        "#You are given a large integer represented as an integer array digits, where each digits[i] is the ith digit of the integer. The digits are ordered from most significant to least significant in left-to-right order. The large integer does not contain any leading 0's.\n",
        "\n",
        "#Increment the large integer by one and return the resulting array of digits.\n",
        "\n",
        "#Examples:\n",
        "Input: digits = [1,2,3]\n",
        "Output: [1,2,4]\n",
        "\n",
        "Input: digits = [9]\n",
        "Output: [1,0]"
      ],
      "metadata": {
        "id": "zJvzrGPjPKpn"
      }
    },
    {
      "cell_type": "code",
      "execution_count": null,
      "metadata": {
        "id": "o723wON8O05u"
      },
      "outputs": [],
      "source": [
        "def plus_one(digits):\n",
        "    n = len(digits)\n",
        "\n",
        "    for i in range(n-1,-1,-1):\n",
        "        if digits[i] < 9:\n",
        "            digits[i] += 1\n",
        "            return digits\n",
        "\n",
        "    return digits"
      ]
    },
    {
      "cell_type": "code",
      "source": [
        "n = 10\n",
        "for i in range(n-1,-1,-1):\n",
        "    print(i)\n",
        "\n",
        "digits = [1, 2, 9]\n",
        "output = [1, 3, 0]\n",
        "\n"
      ],
      "metadata": {
        "colab": {
          "base_uri": "https://localhost:8080/"
        },
        "id": "w7--MWzCcFOQ",
        "outputId": "b27ebf39-7fce-4606-dba1-77b0d865df39"
      },
      "execution_count": null,
      "outputs": [
        {
          "output_type": "stream",
          "name": "stdout",
          "text": [
            "9\n",
            "8\n",
            "7\n",
            "6\n",
            "5\n",
            "4\n",
            "3\n",
            "2\n",
            "1\n",
            "0\n"
          ]
        }
      ]
    },
    {
      "cell_type": "code",
      "source": [
        "digits = [1,2,3]\n",
        "print('input: digits = {}'.format(digits))\n",
        "correct = [1,2,4]\n",
        "res = plus_one(digits)\n",
        "print('correct answer:  {}\\nfunction return: {}'.format(correct,res))\n",
        "print('============================================')\n",
        "\n",
        "digits = [4,3,2,1]\n",
        "print('input: digits = {}'.format(digits))\n",
        "correct = [4,3,2,2]\n",
        "res = plus_one(digits)\n",
        "print('correct answer:  {}\\nfunction return: {}'.format(correct,res))\n",
        "print('============================================')\n",
        "\n",
        "digits = [9]\n",
        "print('input: digits = {}'.format(digits))\n",
        "correct = [1,0]\n",
        "res = plus_one(digits)\n",
        "print('correct answer:  {}\\nfunction return: {}'.format(correct,res))\n",
        "print('============================================')"
      ],
      "metadata": {
        "colab": {
          "base_uri": "https://localhost:8080/"
        },
        "id": "RoPXTP74Pgyb",
        "outputId": "59ff6ea1-7506-467c-ffb3-a86cc378bf59"
      },
      "execution_count": null,
      "outputs": [
        {
          "output_type": "stream",
          "name": "stdout",
          "text": [
            "input: digits = [1, 2, 3]\n",
            "correct answer:  [1, 2, 4]\n",
            "function return: [1, 2, 3]\n",
            "============================================\n",
            "input: digits = [4, 3, 2, 1]\n",
            "correct answer:  [4, 3, 2, 2]\n",
            "function return: [4, 3, 2, 1]\n",
            "============================================\n",
            "input: digits = [9]\n",
            "correct answer:  [1, 0]\n",
            "function return: [9]\n",
            "============================================\n"
          ]
        }
      ]
    },
    {
      "cell_type": "markdown",
      "source": [
        "#Bonus! Try to implement the plus_n function that takes an additional parameter p (a number between 1 and 9) and adds this number to the large integer represented by the list of digits.\n",
        "\n",
        "#Examples:\n",
        "Input: digits = [9,9,5], p = 8\n",
        "Output: [1,0,0,3]"
      ],
      "metadata": {
        "id": "B23OAYgWxtd1"
      }
    },
    {
      "cell_type": "code",
      "source": [
        "def plus_n(digits, p):\n",
        "    return digits"
      ],
      "metadata": {
        "id": "_PhYQgygvaGs"
      },
      "execution_count": null,
      "outputs": []
    },
    {
      "cell_type": "code",
      "source": [
        "digits = [9, 9, 5]\n",
        "p = 8\n",
        "print('input: digits = {}, p = {}'.format(digits,p))\n",
        "correct = [1, 0, 0, 3]\n",
        "res = plus_n(digits,p)\n",
        "print('correct answer:  {}\\nfunction return: {}'.format(correct,res))\n",
        "print('============================================')\n",
        "\n",
        "digits = [4]\n",
        "p = 9\n",
        "print('input: digits = {}, p = {}'.format(digits,p))\n",
        "correct = [1, 3]\n",
        "res = plus_n(digits,p)\n",
        "print('correct answer:  {}\\nfunction return: {}'.format(correct,res))\n",
        "print('============================================')\n",
        "\n",
        "digits = [1, 1, 1]\n",
        "p = 4\n",
        "print('input: digits = {}, p = {}'.format(digits,p))\n",
        "correct = [1, 1, 5]\n",
        "res = plus_n(digits,p)\n",
        "print('correct answer:  {}\\nfunction return: {}'.format(correct,res))\n",
        "print('============================================')"
      ],
      "metadata": {
        "colab": {
          "base_uri": "https://localhost:8080/"
        },
        "id": "dTI5izo0xltl",
        "outputId": "b9abedb0-7063-4d2a-c994-f6ea83877947"
      },
      "execution_count": null,
      "outputs": [
        {
          "output_type": "stream",
          "name": "stdout",
          "text": [
            "input: digits = [9, 9, 5], p = 8\n",
            "correct answer:  [1, 0, 0, 3]\n",
            "function return: [9, 9, 5]\n",
            "============================================\n",
            "input: digits = [4], p = 9\n",
            "correct answer:  [1, 3]\n",
            "function return: [4]\n",
            "============================================\n",
            "input: digits = [1, 1, 1], p = 4\n",
            "correct answer:  [1, 1, 5]\n",
            "function return: [1, 1, 1]\n",
            "============================================\n"
          ]
        }
      ]
    }
  ]
}