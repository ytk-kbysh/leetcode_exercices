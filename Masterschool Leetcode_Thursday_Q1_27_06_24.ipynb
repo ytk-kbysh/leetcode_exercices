{
  "nbformat": 4,
  "nbformat_minor": 0,
  "metadata": {
    "colab": {
      "provenance": [],
      "include_colab_link": true
    },
    "kernelspec": {
      "name": "python3",
      "display_name": "Python 3"
    },
    "language_info": {
      "name": "python"
    }
  },
  "cells": [
    {
      "cell_type": "markdown",
      "metadata": {
        "id": "view-in-github",
        "colab_type": "text"
      },
      "source": [
        "<a href=\"https://colab.research.google.com/github/ytk-kbysh/leetcode_exercices/blob/main/Masterschool%20Leetcode_Thursday_Q1_27_06_24.ipynb\" target=\"_parent\"><img src=\"https://colab.research.google.com/assets/colab-badge.svg\" alt=\"Open In Colab\"/></a>"
      ]
    },
    {
      "cell_type": "markdown",
      "source": [
        "#A string is considered balanced if it contains an equal number of 'L' and 'R' characters.\n",
        "#You are given a balanced string s.\n",
        "\n",
        "#Your task is to split the given string s into the maximum number of balanced strings. You need to return the maximum number of balanced strings you can obtain.\n",
        "\n",
        "#Example:\n",
        "#Input: s = \"RLRRLLRLRL\"\n",
        "#Output: 4 => [\"RL\",\"RRLL\",\"RL\",\"RL\"]"
      ],
      "metadata": {
        "id": "cdjVD8QvPI2M"
      }
    },
    {
      "cell_type": "code",
      "execution_count": null,
      "metadata": {
        "id": "kO8vRlqKPGGI",
        "colab": {
          "base_uri": "https://localhost:8080/"
        },
        "outputId": "0ba84dbb-2d2a-44d3-e6b4-f9728e6abaa3"
      },
      "outputs": [
        {
          "output_type": "stream",
          "name": "stdout",
          "text": [
            "llo\n",
            "(4, ['RL', 'RRRLLL', 'RRRRLLLL', 'RRRRRLLLLL'], 'There is no unbalanced remaining str') \n",
            "\n",
            "llo\n",
            "(3, ['RRLL', 'RRRLLL', 'RRRRLLLL'], 'There is no unbalanced remaining str') \n",
            "\n",
            "llo\n",
            "(2, ['RL', 'RRRRRLLLLL'], 'There is no unbalanced remaining str') \n",
            "\n",
            "llo\n",
            "(1, ['RRRRLLLL'], 'There is no unbalanced remaining str') \n",
            "\n",
            "input error 'F': this function accepts only 'R' and 'L', Peter Löwenbräu Griffin Sr. will chainsaw you\n",
            "llo\n",
            "(0, [], 'Remaining unbalanced str: FLLRRRR') \n",
            "\n",
            "input error 'F': this function accepts only 'R' and 'L', Peter Löwenbräu Griffin Sr. will chainsaw you\n",
            "llo\n",
            "(0, [], 'Remaining unbalanced str: FLLLLRRRR') \n",
            "\n",
            "input error 'F': this function accepts only 'R' and 'L', Peter Löwenbräu Griffin Sr. will chainsaw you\n",
            "llo\n",
            "(1, ['RRRRLLLL'], 'Remaining unbalanced str: F') \n",
            "\n",
            "input error 'P': this function accepts only 'R' and 'L', Peter Löwenbräu Griffin Sr. will chainsaw you\n",
            "llo\n",
            "(0, [], 'Remaining unbalanced str: Peter Löwenbräu Griffin Sr.') \n",
            "\n"
          ]
        }
      ],
      "source": [
        "def split_to_balanced(s):\n",
        "\n",
        "    r_count = 0\n",
        "    r_store = \"\"\n",
        "    l_count = 0\n",
        "    l_store = \"\"\n",
        "    remaining_str = s\n",
        "    result_list = []\n",
        "    result_count = 0\n",
        "    unbalanced_str = \"\"\n",
        "\n",
        "    for item in s:\n",
        "      if item == \"R\":\n",
        "        r_count += 1\n",
        "        remaining_str = remaining_str[1:]\n",
        "        r_store += item\n",
        "      elif item == \"L\":\n",
        "        l_count += 1\n",
        "        remaining_str = remaining_str[1:]\n",
        "        l_store += item\n",
        "      else:\n",
        "        print(f\"input error '{item}': this function accepts only 'R' and 'L', Peter Löwenbräu Griffin Sr. will chainsaw you\")\n",
        "        break\n",
        "\n",
        "      if r_count == l_count:\n",
        "        result_list.append(r_store + l_store)\n",
        "        r_count = 0\n",
        "        l_count = 0\n",
        "        result_count += 1\n",
        "\n",
        "    if remaining_str == \"\":\n",
        "        remaining_str = \"There is no unbalanced remaining str\"\n",
        "    else:\n",
        "        remaining_str = \"Remaining unbalanced str: \" + remaining_str\n",
        "\n",
        "    b = \"Hello, World!\"\n",
        "    print(b[2:5])\n",
        "\n",
        "    return result_count, result_list, remaining_str\n",
        "\n",
        "print(split_to_balanced('RLRRLLRLRL'), \"\\n\")\n",
        "print(split_to_balanced('LLRRRLLR'), \"\\n\")\n",
        "print(split_to_balanced('RLRRRLLRLL'), \"\\n\")\n",
        "print(split_to_balanced('LLLLRRRR'), \"\\n\")\n",
        "print(split_to_balanced('LLFLLRRRR'), \"\\n\")\n",
        "print(split_to_balanced('FLLLLRRRR'), \"\\n\")\n",
        "print(split_to_balanced('LLLLRRRRF'), \"\\n\")\n",
        "print(split_to_balanced('Peter Löwenbräu Griffin Sr.'), \"\\n\")"
      ]
    },
    {
      "cell_type": "code",
      "source": [
        "s = 'RLRRLLRLRL'\n",
        "print('input: s = {}'.format(s))\n",
        "correct = 4\n",
        "res = split_to_balanced(s)\n",
        "print('correct answer:  {}\\nfunction return: {}'.format(correct,res))\n",
        "print('============================================')\n",
        "\n",
        "s = 'LLRRRLLR'\n",
        "print('input: s = {}'.format(s))\n",
        "correct = 3\n",
        "res = split_to_balanced(s)\n",
        "print('correct answer:  {}\\nfunction return: {}'.format(correct,res))\n",
        "print('============================================')\n",
        "\n",
        "s = 'RLRRRLLRLL'\n",
        "print('input: s = {}'.format(s))\n",
        "correct = 2\n",
        "res = split_to_balanced(s)\n",
        "print('correct answer:  {}\\nfunction return: {}'.format(correct,res))\n",
        "print('============================================')\n",
        "\n",
        "s = 'LLLLRRRR'\n",
        "print('input: s = {}'.format(s))\n",
        "correct = 1\n",
        "res = split_to_balanced(s)\n",
        "print('correct answer:  {}\\nfunction return: {}'.format(correct,res))\n",
        "print('============================================')"
      ],
      "metadata": {
        "colab": {
          "base_uri": "https://localhost:8080/"
        },
        "id": "kaGa75B8PkO1",
        "outputId": "46ac78b7-f7e6-4aa1-cb77-89dbd9cc23b7"
      },
      "execution_count": null,
      "outputs": [
        {
          "output_type": "stream",
          "name": "stdout",
          "text": [
            "input: s = RLRRLLRLRL\n",
            "correct answer:  4\n",
            "function return: 0\n",
            "============================================\n",
            "input: s = LLRRRLLR\n",
            "correct answer:  3\n",
            "function return: 0\n",
            "============================================\n",
            "input: s = RLRRRLLRLL\n",
            "correct answer:  2\n",
            "function return: 0\n",
            "============================================\n",
            "input: s = LLLLRRRR\n",
            "correct answer:  1\n",
            "function return: 0\n",
            "============================================\n"
          ]
        }
      ]
    }
  ]
}