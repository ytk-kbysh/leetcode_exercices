{
  "nbformat": 4,
  "nbformat_minor": 0,
  "metadata": {
    "colab": {
      "provenance": [],
      "include_colab_link": true
    },
    "kernelspec": {
      "name": "python3",
      "display_name": "Python 3"
    },
    "language_info": {
      "name": "python"
    }
  },
  "cells": [
    {
      "cell_type": "markdown",
      "metadata": {
        "id": "view-in-github",
        "colab_type": "text"
      },
      "source": [
        "<a href=\"https://colab.research.google.com/github/ytk-kbysh/leetcode_exercices/blob/main/Masterschool_Leetcode_Thursday_Q1_22_08_24.ipynb\" target=\"_parent\"><img src=\"https://colab.research.google.com/assets/colab-badge.svg\" alt=\"Open In Colab\"/></a>"
      ]
    },
    {
      "cell_type": "markdown",
      "source": [
        "#Given a string s, find the first non-repeating character in it and return its index. If it does not exist, return -1.\n",
        "\n",
        "\n",
        "#Example 1:\n",
        "#Input: s = \"leetcode\"\n",
        "#Output: 0\n",
        "\n",
        "#Example 2:\n",
        "#Input: s = \"loveleetcode\"\n",
        "#Output: 2\n",
        "\n",
        "#Example 3:\n",
        "#Input: s = \"aabb\"\n",
        "#Output: -1\n"
      ],
      "metadata": {
        "id": "LQt5spB0lTlH"
      }
    },
    {
      "cell_type": "code",
      "execution_count": 22,
      "metadata": {
        "id": "QsBFQCmflLdO",
        "colab": {
          "base_uri": "https://localhost:8080/"
        },
        "outputId": "aaa75364-8694-4a05-d2c4-aba273972e9a"
      },
      "outputs": [
        {
          "output_type": "stream",
          "name": "stdout",
          "text": [
            "{'l': 1, 'e': 3, 't': 1, 'c': 1, 'o': 1, 'd': 1}\n",
            "0\n"
          ]
        }
      ],
      "source": [
        "def first_uniq_char(s):\n",
        "\n",
        "  alpha_dict = {}\n",
        "  answer = \"\"\n",
        "\n",
        "  for key in list(s):\n",
        "    if key in alpha_dict.keys():\n",
        "      alpha_dict[key] += 1\n",
        "    else:\n",
        "      alpha_dict[key] = 1\n",
        "\n",
        "  i = 0\n",
        "  for key in list(s):\n",
        "    if alpha_dict[key] == 1:\n",
        "      answer = i\n",
        "      break\n",
        "    else:\n",
        "      answer = -1\n",
        "    i += 1\n",
        "\n",
        "  print(alpha_dict)\n",
        "\n",
        "  return answer\n",
        "\n",
        "print(first_uniq_char(\"leetcode\"))"
      ]
    },
    {
      "cell_type": "code",
      "source": [
        "test_cases = [\n",
        "        (\"leetcode\", 0),\n",
        "        (\"loveleetcode\", 2),\n",
        "        (\"aabb\", -1),\n",
        "        (\"abcdefg\", 0),\n",
        "        (\"aabbccddeeffgghhiijjkkllmmnnooppqqrrssttuu\", -1),\n",
        "    ]\n",
        "\n",
        "for i, (s, correct) in enumerate(test_cases):\n",
        "    result = first_uniq_char(s)\n",
        "    print(f'Test case {i + 1}:')\n",
        "    print(f'Input: s = {s}')\n",
        "    print(f'Expected Output: {correct}')\n",
        "    print(f'Actual Output: {result}')\n",
        "    print('============================================')"
      ],
      "metadata": {
        "colab": {
          "base_uri": "https://localhost:8080/"
        },
        "id": "Zwdijy_2lhmS",
        "outputId": "ce23e5dd-5fb8-4789-96c6-790297816fc6"
      },
      "execution_count": 23,
      "outputs": [
        {
          "output_type": "stream",
          "name": "stdout",
          "text": [
            "{'l': 1, 'e': 3, 't': 1, 'c': 1, 'o': 1, 'd': 1}\n",
            "Test case 1:\n",
            "Input: s = leetcode\n",
            "Expected Output: 0\n",
            "Actual Output: 0\n",
            "============================================\n",
            "{'l': 2, 'o': 2, 'v': 1, 'e': 4, 't': 1, 'c': 1, 'd': 1}\n",
            "Test case 2:\n",
            "Input: s = loveleetcode\n",
            "Expected Output: 2\n",
            "Actual Output: 2\n",
            "============================================\n",
            "{'a': 2, 'b': 2}\n",
            "Test case 3:\n",
            "Input: s = aabb\n",
            "Expected Output: -1\n",
            "Actual Output: -1\n",
            "============================================\n",
            "{'a': 1, 'b': 1, 'c': 1, 'd': 1, 'e': 1, 'f': 1, 'g': 1}\n",
            "Test case 4:\n",
            "Input: s = abcdefg\n",
            "Expected Output: 0\n",
            "Actual Output: 0\n",
            "============================================\n",
            "{'a': 2, 'b': 2, 'c': 2, 'd': 2, 'e': 2, 'f': 2, 'g': 2, 'h': 2, 'i': 2, 'j': 2, 'k': 2, 'l': 2, 'm': 2, 'n': 2, 'o': 2, 'p': 2, 'q': 2, 'r': 2, 's': 2, 't': 2, 'u': 2}\n",
            "Test case 5:\n",
            "Input: s = aabbccddeeffgghhiijjkkllmmnnooppqqrrssttuu\n",
            "Expected Output: -1\n",
            "Actual Output: -1\n",
            "============================================\n"
          ]
        }
      ]
    }
  ]
}